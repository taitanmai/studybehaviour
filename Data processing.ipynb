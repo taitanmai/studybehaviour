{
 "cells": [
  {
   "cell_type": "markdown",
   "metadata": {},
   "source": [
    "# Import Library "
   ]
  },
  {
   "cell_type": "code",
   "execution_count": 2,
   "metadata": {
    "ExecuteTime": {
     "end_time": "2020-04-10T20:56:47.027853Z",
     "start_time": "2020-04-10T20:56:46.337745Z"
    }
   },
   "outputs": [],
   "source": [
    "import pandas as pd\n",
    "import matplotlib.pyplot as plt\n",
    "import numpy as np\n",
    "import scipy as sp\n",
    "from scipy import stats\n",
    "%matplotlib inline"
   ]
  },
  {
   "cell_type": "code",
   "execution_count": 3,
   "metadata": {
    "ExecuteTime": {
     "end_time": "2020-04-10T20:56:47.965502Z",
     "start_time": "2020-04-10T20:56:47.958077Z"
    }
   },
   "outputs": [],
   "source": [
    "pd.options.display.max_colwidth = 100"
   ]
  },
  {
   "cell_type": "markdown",
   "metadata": {},
   "source": [
    "# Import Raw process data"
   ]
  },
  {
   "cell_type": "code",
   "execution_count": null,
   "metadata": {},
   "outputs": [],
   "source": [
    "#!/usr/bin/env python3\n",
    "# -*- coding: utf-8 -*-\n",
    "\"\"\"\n",
    "Created on Wed Jul 24 17:09:34 2019\n",
    "@author: tai\n",
    "\"\"\"\n",
    "import pandas as pd\n",
    "from datetime import datetime \n",
    "import os\n",
    "\n",
    "def get_event_log_by_file(m,u,d):\n",
    "    corePath = '/home/tai/Python_data_analytics/einstein/einstein-anon/anon/activity/'\n",
    "    path = corePath + m + '/'\n",
    "    path += u + '/'\n",
    "    path += d \n",
    "    \"\"\"+ '-activity.log' \"\"\"\n",
    "    if os.path.exists(path):\n",
    "        f = open(path,'r')\n",
    "        temp = []\n",
    "        for i in f:\n",
    "            split = i.split(' ',6)\n",
    "            if len(split)>5:\n",
    "                if split[0] != ';;' and split[5] != 'upload' and split[5] != 'is-lab-exam:':\n",
    "                    temp.append(split)\n",
    "                \n",
    "        data = pd.DataFrame(temp)\n",
    "        data.columns = [\"date\", \"time\", \"moduleCode\", \"org:resource\", \"case\", \"concept:name\", \"description\"]        \n",
    "        columns = [\"case:concept:name\", \"concept:instance\", \"concept:name\",\"time:timestamp\", \"org:resource\", \"lifecycle:transition\",\"description\"]\n",
    "        data1 = pd.DataFrame(columns = columns)\n",
    "        data1[\"case:concept:name\"] = data[\"date\"].apply(str) + '-' + data[\"org:resource\"].apply(str) + '-' + data[\"case\"]\n",
    "        data1[\"concept:instance\"] = data[\"concept:name\"]\n",
    "        data1[\"time:timestamp\"] = data[\"date\"].apply(str) + ' ' + data['time'].apply(str)\n",
    "        data1[\"lifecycle:transition\"] = 'complete'\n",
    "        data1[\"org:resource\"] = data[\"org:resource\"]\n",
    "        data1[\"concept:name\"] = data[\"concept:name\"]\n",
    "        data1[\"description\"] = data[\"description\"]\n",
    "        data1['time:timestamp'] = pd.to_datetime(data1.time:timestamp)\n",
    "        \"\"\"\n",
    "        for index, row in data1.iterrows():             \n",
    "            try:\n",
    "                row['time:timestamp'] = datetime.strptime(row['time:timestamp'], '%Y-%m-%d %H:%M:%S')\n",
    "            except:\n",
    "                pass      \n",
    "        \"\"\"                \n",
    "        return data1\n",
    "    else:\n",
    "        return []\n",
    "    \n",
    "    \n",
    "def get_eventlogs_by_condition(module=[],user=[],date=[]):\n",
    "    corePath = path = '/home/tai/Python_data_analytics/einstein/einstein-anon/anon/activity/'\n",
    "    if len(module) == 0:\n",
    "        path = corePath\n",
    "        module = os.listdir(path)\n",
    "    module = list(dict.fromkeys(module)) \n",
    "    \n",
    "    if len(user) == 0:\n",
    "        for m in module:\n",
    "              path = corePath + m + '/'\n",
    "              users = os.listdir(path)\n",
    "              for u in users:\n",
    "                  user.append(u)        \n",
    "    user = list(dict.fromkeys(user))\n",
    "    if len(date) == 0:\n",
    "        for m in module:\n",
    "            for u in user:\n",
    "                path = corePath + m + '/' + u + '/'                \n",
    "                dates = os.listdir(path)\n",
    "                for d in dates:\n",
    "                    date.append(d)    \n",
    "    date = list(dict.fromkeys(date))\n",
    "       \n",
    "    logs = pd.DataFrame()\n",
    "    for m in module:        \n",
    "        for u in user:\n",
    "            for d in date:                \n",
    "                log = get_event_log_by_file(m,u,d)                \n",
    "                if len(log) > 0:                    \n",
    "                    logs = pd.concat([logs,log])\n",
    "    \n",
    "    return logs\n",
    "def buildActivityUploadData(activity, allActivities, sourceData):\n",
    "    actUpload = []\n",
    "    for i in activity:\n",
    "        act = allActivities.loc[allActivities['concept:name'] == i]\n",
    "        act = act.groupby('org:resource').count()\n",
    "        act.drop(['case:concept:name','concept:instance','time:timestamp','lifecycle:transition','description'], axis=1, inplace=True)\n",
    "        columnName = i+'count'\n",
    "        act.columns = [columnName]\n",
    "        if len(actUpload) > 0:\n",
    "            actUpload = actUpload.merge(act, left_on=data1.index, right_on=act.index)\n",
    "        else:\n",
    "            actUpload = data1.merge(act, left_on=data1.index, right_on=act.index)\n",
    "        actUpload = actUpload.set_index('key_0')\n",
    "    return actUpload\n",
    "def pearsonGeneration(field,columns,data):\n",
    "    array = []\n",
    "    for i in field:   \n",
    "        j = [i]\n",
    "        j.extend(list(stats.pearsonr(activityUpload1[columns], activityUpload1[i+'count'])))\n",
    "        array.append(j)\n",
    "    result = pd.DataFrame(array,columns=['activity','correlation','p-value'])\n",
    "    return result\n",
    "\"\"\" some other things \n",
    "from os import listdir\n",
    "from os.path import isfile, join\n",
    "path = '/home/tai/Python_data_analytics/einstein/einstein-anon/anon/activity/'\n",
    "a = os.listdir(path)\n",
    "\"\"\"\n",
    "\n",
    "module = ['ca116']\n",
    "user = [] #get all users\n",
    "date = [] #get all dates\n",
    "\n",
    "\n",
    "log1 = get_eventlogs_by_condition(module,user,date=date)\n",
    "\n",
    "log1.to_csv(\"activity1.csv\",index=False) "
   ]
  },
  {
   "cell_type": "markdown",
   "metadata": {},
   "source": [
    "# Import assessment result data"
   ]
  },
  {
   "cell_type": "code",
   "execution_count": null,
   "metadata": {},
   "outputs": [],
   "source": [
    "#!/usr/bin/env python3\n",
    "# -*- coding: utf-8 -*-\n",
    "\"\"\"\n",
    "Created on Mon Jul 29 11:46:49 2019\n",
    "@author: tai\n",
    "\"\"\"\n",
    "import os\n",
    "import json\n",
    "import pandas as pd\n",
    "import re\n",
    "from datetime import datetime \n",
    "\n",
    "def getUploadReportContent(m,u,d,file):\n",
    "    corePath = '/home/tai/Python_data_analytics/einstein/einstein-anon/anon/uploads/'\n",
    "    path = corePath + m + '/'\n",
    "    path += u + '/'\n",
    "    path += d + '/'\n",
    "    path += file\n",
    "    if os.path.exists(path):\n",
    "        f = open(path,'r')\n",
    "        content1 = f.read()\n",
    "        j = json.loads(content1)\n",
    "        f.close()\n",
    "        columns = [\"date\",\"module\",\"user\",\"task\",\"language\",\"correct\",\"failed\",\"passed\",\"version\",\"timeout\",\"extension\",\"ip\"]\n",
    "        content = []\n",
    "        for index, c in enumerate(columns,start=0):\n",
    "            content.append(j[c])\n",
    "        \n",
    "        return content\n",
    "    else:\n",
    "        return []\n",
    "\n",
    "def extractUploadsData(module = [],user=[],date=[]):\n",
    "    corePath = path = '/home/tai/Python_data_analytics/einstein/einstein-anon/anon/uploads/'\n",
    "    if len(module) == 0:\n",
    "        path = corePath\n",
    "        if os.path.exists(path):\n",
    "            module = os.listdir(path)\n",
    "    module = list(dict.fromkeys(module)) \n",
    "    \n",
    "    if len(user) == 0:\n",
    "        for m in module:\n",
    "              path = corePath + m + '/'\n",
    "              if os.path.exists(path):\n",
    "                  users = os.listdir(path)\n",
    "                  for u in users:\n",
    "                      user.append(u)        \n",
    "    user = list(dict.fromkeys(user))\n",
    "\n",
    "    if len(date) == 0:\n",
    "        for m in module:\n",
    "            for u in user:\n",
    "                path = corePath + m + '/' + u + '/'\n",
    "                if os.path.exists(path):                \n",
    "                    dates = os.listdir(path)\n",
    "                    for d in dates:\n",
    "                        date.append(d)    \n",
    "    date = list(dict.fromkeys(date))\n",
    "    \n",
    "    columns = [\"date\",\"module\",\"user\",\"task\",\"language\",\"correct\",\"failed\",\"passed\",\"version\",\"timeout\",\"extension\",\"ip\"]\n",
    "    \n",
    "    resultArray = []\n",
    "    for m in module:\n",
    "        for u in user:\n",
    "            for d in date:\n",
    "                path = corePath + m + '/' + u + '/' + d + '/'\n",
    "                if os.path.exists(path):\n",
    "                    files = os.listdir(path)\n",
    "                    for f in files:                        \n",
    "                        if re.search(\".report.(20|19)\\d{2}-[0-1][0-9]-[0-3][0-9]-[0-2][0-9]:[0-6][0-9]:[0-6][0-9].json$\",f):\n",
    "                            temp = getUploadReportContent(m,u,d,f)\n",
    "                            resultArray.append(temp)\n",
    "    \n",
    "    result = pd.DataFrame(resultArray,columns=columns)\n",
    "    result['date'] = pd.to_datetime(result.date)\n",
    "    return result  \n",
    "   \n",
    "result = extractUploadsData(module = ['ca116'])   \n",
    "\n",
    "\n",
    "result.to_csv(\"uploads1.csv\",index=False)    \n",
    "\n",
    "\"\"\"\n",
    "corePath = '/home/tai/Python_data_analytics/einstein/einstein-anon/anon/uploads/'\n",
    "m = 'ca116'\n",
    "u = 'u-00b8c129ae34eedef4311450577776a7a7f94c81'\n",
    "d = '2018-09-27'\n",
    "file = '.sweets-2.py.report.json'\n",
    "path = corePath + m + '/'\n",
    "path += u + '/'\n",
    "path += d + '/'\n",
    "path += file\n",
    "print(path)\n",
    "if os.path.exists(path):\n",
    "    f = open(path,'r')\n",
    "    content = f.read()\n",
    "    j = json.loads(content)   \n",
    "    print(j[\"results\"][0][\"correct\"])\n",
    "    print(len(j))\n",
    "a = \".small-primes.py.report.2019-10-04-14:56:44.json\"\n",
    "b = re.findall(\".report.(20|19)\\d{2}-[0-1][0-9]-[0-3][0-9]-[0-2][0-9]:[0-6][0-9]:[0-6][0-9].json$\",a)\n",
    "print(b)\n",
    "\"\"\"        "
   ]
  },
  {
   "cell_type": "markdown",
   "metadata": {
    "ExecuteTime": {
     "end_time": "2020-03-28T17:08:50.202619Z",
     "start_time": "2020-03-28T17:08:50.196272Z"
    }
   },
   "source": [
    "# Event log construction"
   ]
  },
  {
   "cell_type": "code",
   "execution_count": null,
   "metadata": {},
   "outputs": [],
   "source": [
    "#\n",
    "activity = pd.read_csv('~/Python_data_analytics/einstein/analysis/activity1.csv', sep=\",\")\n",
    "activity = activity.drop(activity.index[140608])"
   ]
  },
  {
   "cell_type": "code",
   "execution_count": null,
   "metadata": {},
   "outputs": [],
   "source": [
    "activity = activity.sort_values(by=['case:concept:name','time:timestamp'])"
   ]
  },
  {
   "cell_type": "code",
   "execution_count": null,
   "metadata": {},
   "outputs": [],
   "source": [
    "activity['case'] = activity['case:concept:name']\n",
    "activity['activity'] = activity['concept:instance']\n",
    "eventLog = activity.set_index(['case', 'activity'])"
   ]
  },
  {
   "cell_type": "code",
   "execution_count": null,
   "metadata": {},
   "outputs": [],
   "source": [
    "#eventLog = eventLog.loc[(eventLog['time:timestamp'] >= '2018-09-20') and eventLog['time:timestamp'] <= '2018-12-31')]\n",
    "eventLog.sort_values(by=['case:concept:name','time:timestamp'])\n",
    "#eventLog.to_csv('eventLog')\n",
    "eventLog"
   ]
  },
  {
   "cell_type": "code",
   "execution_count": null,
   "metadata": {},
   "outputs": [],
   "source": [
    "eventLog = pd.read_csv('eventLog.csv')"
   ]
  },
  {
   "cell_type": "markdown",
   "metadata": {},
   "source": [
    "# Transition data matrix construction"
   ]
  },
  {
   "cell_type": "code",
   "execution_count": null,
   "metadata": {},
   "outputs": [],
   "source": [
    "originalElements = ['load','scroll','blur','focus','unload','hashchange','click-0','selection','click-2',\n",
    "                    'click-1','click-3']\n",
    "\n",
    "columns = []\n",
    "columns.append('case')\n",
    "columns.append('startDate')\n",
    "columns.append('endDate')\n",
    "columns.append('user')\n",
    "\n",
    "for i in originalElements:\n",
    "    for j in originalElements:\n",
    "        txt = i + '-' + j\n",
    "        columns.append(txt)\n",
    "columns = list(dict.fromkeys(columns))"
   ]
  },
  {
   "cell_type": "code",
   "execution_count": null,
   "metadata": {},
   "outputs": [],
   "source": [
    "allRow = []\n",
    "for index,row in eventLog.groupby(level=0):\n",
    "    newRow = {}\n",
    "    splitIndex = index.split(\"-\")\n",
    "\n",
    "    newRow['user'] = splitIndex[3]+'-'+splitIndex[4]\n",
    "    newRow['startDate'] = row['time:timestamp'][0]\n",
    "    newRow['endDate'] = row['time:timestamp'][len(row)-1]\n",
    "    newRow['case'] = index\n",
    "             \n",
    "    for i in range(len(row['concept:instance'])-1):\n",
    "        key = row['concept:instance'][i]+'-'+row['concept:instance'][i+1]\n",
    "        if key in columns:\n",
    "            if key not in newRow:\n",
    "                newRow[key] = 1\n",
    "            else:\n",
    "                newRow[key] = newRow[key] + 1               \n",
    "    allRow.append(newRow)"
   ]
  },
  {
   "cell_type": "code",
   "execution_count": null,
   "metadata": {},
   "outputs": [],
   "source": [
    "activityVariance = pd.DataFrame(allRow,columns=columns)"
   ]
  },
  {
   "cell_type": "code",
   "execution_count": null,
   "metadata": {},
   "outputs": [],
   "source": [
    "activityVariance = pd.read_csv('activityVariance2.csv')"
   ]
  }
 ],
 "metadata": {
  "kernelspec": {
   "display_name": "Python 3",
   "language": "python",
   "name": "python3"
  },
  "language_info": {
   "codemirror_mode": {
    "name": "ipython",
    "version": 3
   },
   "file_extension": ".py",
   "mimetype": "text/x-python",
   "name": "python",
   "nbconvert_exporter": "python",
   "pygments_lexer": "ipython3",
   "version": "3.7.7"
  },
  "latex_envs": {
   "LaTeX_envs_menu_present": true,
   "autoclose": false,
   "autocomplete": true,
   "bibliofile": "biblio.bib",
   "cite_by": "apalike",
   "current_citInitial": 1,
   "eqLabelWithNumbers": true,
   "eqNumInitial": 1,
   "hotkeys": {
    "equation": "Ctrl-E",
    "itemize": "Ctrl-I"
   },
   "labels_anchors": false,
   "latex_user_defs": false,
   "report_style_numbering": false,
   "user_envs_cfg": false
  },
  "toc": {
   "base_numbering": 1,
   "nav_menu": {},
   "number_sections": true,
   "sideBar": true,
   "skip_h1_title": false,
   "title_cell": "Table of Contents",
   "title_sidebar": "Contents",
   "toc_cell": false,
   "toc_position": {},
   "toc_section_display": true,
   "toc_window_display": false
  },
  "varInspector": {
   "cols": {
    "lenName": 16,
    "lenType": 16,
    "lenVar": 40
   },
   "kernels_config": {
    "python": {
     "delete_cmd_postfix": "",
     "delete_cmd_prefix": "del ",
     "library": "var_list.py",
     "varRefreshCmd": "print(var_dic_list())"
    },
    "r": {
     "delete_cmd_postfix": ") ",
     "delete_cmd_prefix": "rm(",
     "library": "var_list.r",
     "varRefreshCmd": "cat(var_dic_list()) "
    }
   },
   "types_to_exclude": [
    "module",
    "function",
    "builtin_function_or_method",
    "instance",
    "_Feature"
   ],
   "window_display": false
  }
 },
 "nbformat": 4,
 "nbformat_minor": 2
}
