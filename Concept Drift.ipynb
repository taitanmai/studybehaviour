{
 "cells": [
  {
   "cell_type": "code",
   "execution_count": 1,
   "metadata": {
    "ExecuteTime": {
     "end_time": "2020-05-11T00:23:42.641934Z",
     "start_time": "2020-05-11T00:23:40.701740Z"
    }
   },
   "outputs": [
    {
     "name": "stderr",
     "output_type": "stream",
     "text": [
      "\n",
      "Bad key \"text.kerning_factor\" on line 4 in\n",
      "C:\\ProgramData\\Anaconda3\\envs\\einstein\\lib\\site-packages\\matplotlib\\mpl-data\\stylelib\\_classic_test_patch.mplstyle.\n",
      "You probably need to get an updated matplotlibrc file from\n",
      "https://github.com/matplotlib/matplotlib/blob/v3.1.3/matplotlibrc.template\n",
      "or from the matplotlib source distribution\n"
     ]
    }
   ],
   "source": [
    "import pandas as pd\n",
    "import matplotlib.pyplot as plt\n",
    "import numpy as np\n",
    "import scipy as sp\n",
    "from scipy import stats\n",
    "import math\n",
    "import seaborn as sns\n",
    "%matplotlib inline"
   ]
  },
  {
   "cell_type": "code",
   "execution_count": 2,
   "metadata": {
    "ExecuteTime": {
     "end_time": "2020-05-11T00:23:44.257366Z",
     "start_time": "2020-05-11T00:23:44.251382Z"
    }
   },
   "outputs": [],
   "source": [
    "pd.options.display.max_columns = None\n",
    "pd.options.display.max_colwidth = 100\n",
    "pd.set_option('display.max_rows',None)"
   ]
  },
  {
   "cell_type": "code",
   "execution_count": 3,
   "metadata": {
    "ExecuteTime": {
     "end_time": "2020-05-11T00:23:54.683304Z",
     "start_time": "2020-05-11T00:23:48.700243Z"
    }
   },
   "outputs": [],
   "source": [
    "activityVariance = pd.read_csv('ActivityVarianceFixedLog.csv')"
   ]
  },
  {
   "cell_type": "code",
   "execution_count": null,
   "metadata": {
    "ExecuteTime": {
     "end_time": "2020-05-11T00:25:20.122381Z",
     "start_time": "2020-05-11T00:24:54.681Z"
    }
   },
   "outputs": [],
   "source": [
    "activityVarianceResult = pd.read_csv('newActivityVarianceWithResult.csv')\n",
    "activityVarianceResult = activityVarianceResult.loc[:, ~activityVarianceResult.columns.str.contains('^Unnamed')]"
   ]
  },
  {
   "cell_type": "code",
   "execution_count": 4,
   "metadata": {
    "ExecuteTime": {
     "end_time": "2020-05-11T00:25:27.881348Z",
     "start_time": "2020-05-11T00:25:27.753696Z"
    }
   },
   "outputs": [],
   "source": [
    "activityVariance = activityVariance.loc[activityVariance['endDate'] <= '2018-12-12']"
   ]
  },
  {
   "cell_type": "code",
   "execution_count": null,
   "metadata": {
    "ExecuteTime": {
     "start_time": "2020-05-11T00:29:20.563Z"
    }
   },
   "outputs": [],
   "source": [
    "def footprintForActivity(dfSubLogActivityVariance,activity, activityList):\n",
    "    cols = []\n",
    "    check = {}\n",
    "    N,S,A = 0.0,0.0,0.0\n",
    "    for a in activityList:\n",
    "        check[a] = 0\n",
    "    for index, row in dfSubLogActivityVariance.iterrows():\n",
    "        for a in activityList:\n",
    "            col = activity + '-' + a\n",
    "            if row[col] > 0:\n",
    "                check[a] = check[a] + 1\n",
    "    for c in check:\n",
    "        if check[c] == 0:\n",
    "            N = N + 1\n",
    "        elif check[c] < len(dfSubLogActivityVariance):\n",
    "            S = S + 1\n",
    "        else:\n",
    "            A = A + 1\n",
    "    RE = 0\n",
    "    for i in [A,S,N]:\n",
    "        if i > 0:\n",
    "            RE = RE - (i/len(activityList))*math.log2(i/len(activityList))         \n",
    "                \n",
    "    return [A,S,N], RE\n"
   ]
  },
  {
   "cell_type": "code",
   "execution_count": null,
   "metadata": {
    "ExecuteTime": {
     "end_time": "2020-05-11T00:18:57.065583Z",
     "start_time": "2020-05-11T00:18:56.775035Z"
    }
   },
   "outputs": [],
   "source": [
    "activityList = ['load','scroll','focus','blur','unload','hashchange','click-0','selection','click-2','click-1','click-3']\n",
    "footprintForActivity(activityVariance.loc[2:6,:],'scroll',activityList)"
   ]
  },
  {
   "cell_type": "code",
   "execution_count": null,
   "metadata": {
    "ExecuteTime": {
     "end_time": "2020-05-10T02:00:01.666807Z",
     "start_time": "2020-05-10T02:00:01.626910Z"
    }
   },
   "outputs": [],
   "source": [
    "activityVariance.loc[0:1,:]"
   ]
  }
 ],
 "metadata": {
  "kernelspec": {
   "display_name": "Python 3",
   "language": "python",
   "name": "python3"
  },
  "language_info": {
   "codemirror_mode": {
    "name": "ipython",
    "version": 3
   },
   "file_extension": ".py",
   "mimetype": "text/x-python",
   "name": "python",
   "nbconvert_exporter": "python",
   "pygments_lexer": "ipython3",
   "version": "3.7.7"
  },
  "latex_envs": {
   "LaTeX_envs_menu_present": true,
   "autoclose": false,
   "autocomplete": true,
   "bibliofile": "biblio.bib",
   "cite_by": "apalike",
   "current_citInitial": 1,
   "eqLabelWithNumbers": true,
   "eqNumInitial": 1,
   "hotkeys": {
    "equation": "Ctrl-E",
    "itemize": "Ctrl-I"
   },
   "labels_anchors": false,
   "latex_user_defs": false,
   "report_style_numbering": false,
   "user_envs_cfg": false
  },
  "toc": {
   "base_numbering": 1,
   "nav_menu": {},
   "number_sections": true,
   "sideBar": true,
   "skip_h1_title": false,
   "title_cell": "Table of Contents",
   "title_sidebar": "Contents",
   "toc_cell": false,
   "toc_position": {},
   "toc_section_display": true,
   "toc_window_display": false
  },
  "varInspector": {
   "cols": {
    "lenName": 16,
    "lenType": 16,
    "lenVar": 40
   },
   "kernels_config": {
    "python": {
     "delete_cmd_postfix": "",
     "delete_cmd_prefix": "del ",
     "library": "var_list.py",
     "varRefreshCmd": "print(var_dic_list())"
    },
    "r": {
     "delete_cmd_postfix": ") ",
     "delete_cmd_prefix": "rm(",
     "library": "var_list.r",
     "varRefreshCmd": "cat(var_dic_list()) "
    }
   },
   "types_to_exclude": [
    "module",
    "function",
    "builtin_function_or_method",
    "instance",
    "_Feature"
   ],
   "window_display": false
  }
 },
 "nbformat": 4,
 "nbformat_minor": 4
}
