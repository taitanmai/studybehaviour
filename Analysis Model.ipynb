{
 "cells": [
  {
   "cell_type": "code",
   "execution_count": null,
   "metadata": {},
   "outputs": [],
   "source": [
    "def getNumberOfPCs(df,acceptedPercentage):\n",
    "    temp = df['explained_var_ratio']\n",
    "    sumContrPer = 0\n",
    "    for i,j in zip(temp,range(0,len(temp))):\n",
    "        sumContrPer = sumContrPer + i\n",
    "        if sumContrPer >= acceptedPercentage:\n",
    "            break\n",
    "    return [sumContrPer,j]\n",
    "\n",
    "def contrCal(df,numOfPCs):\n",
    "    #get sum of eigenvalues of the first number of PCs in df\n",
    "    totalContrPCs = sum(df['eigenvalues'].head(numOfPCs))\n",
    "    #calculate contribution of variables into number of PCs\n",
    "    temp = pd.DataFrame(columns=df.columns)\n",
    "    listContr = []\n",
    "    columns = df.columns\n",
    "    for c in columns:        \n",
    "        if c not in ['explained_var_ratio','eigenvalues']:\n",
    "            temp[c] = df[c]*df[c]*df['eigenvalues']\n",
    "            temp1 = [c,sum(temp[c].head(numOfPCs))/totalContrPCs]            \n",
    "            listContr.append(temp1)\n",
    "    result = pd.DataFrame(listContr,columns=['transition','contr_percentage'])\n",
    "    result = result.drop(result.index[0])\n",
    "    return result"
   ]
  }
 ],
 "metadata": {
  "kernelspec": {
   "display_name": "Python 3",
   "language": "python",
   "name": "python3"
  },
  "language_info": {
   "codemirror_mode": {
    "name": "ipython",
    "version": 3
   },
   "file_extension": ".py",
   "mimetype": "text/x-python",
   "name": "python",
   "nbconvert_exporter": "python",
   "pygments_lexer": "ipython3",
   "version": "3.7.3"
  },
  "toc": {
   "base_numbering": 1,
   "nav_menu": {},
   "number_sections": true,
   "sideBar": true,
   "skip_h1_title": false,
   "title_cell": "Table of Contents",
   "title_sidebar": "Contents",
   "toc_cell": false,
   "toc_position": {},
   "toc_section_display": true,
   "toc_window_display": false
  },
  "varInspector": {
   "cols": {
    "lenName": 16,
    "lenType": 16,
    "lenVar": 40
   },
   "kernels_config": {
    "python": {
     "delete_cmd_postfix": "",
     "delete_cmd_prefix": "del ",
     "library": "var_list.py",
     "varRefreshCmd": "print(var_dic_list())"
    },
    "r": {
     "delete_cmd_postfix": ") ",
     "delete_cmd_prefix": "rm(",
     "library": "var_list.r",
     "varRefreshCmd": "cat(var_dic_list()) "
    }
   },
   "types_to_exclude": [
    "module",
    "function",
    "builtin_function_or_method",
    "instance",
    "_Feature"
   ],
   "window_display": false
  }
 },
 "nbformat": 4,
 "nbformat_minor": 2
}
