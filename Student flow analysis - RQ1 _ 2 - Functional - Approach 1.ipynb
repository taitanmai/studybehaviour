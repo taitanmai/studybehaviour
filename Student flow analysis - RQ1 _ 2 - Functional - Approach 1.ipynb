{
 "cells": [
  {
   "cell_type": "markdown",
   "metadata": {},
   "source": [
    "# Import library"
   ]
  },
  {
   "cell_type": "code",
   "execution_count": 1,
   "metadata": {
    "ExecuteTime": {
     "end_time": "2020-02-06T00:53:03.588762Z",
     "start_time": "2020-02-06T00:53:02.855932Z"
    }
   },
   "outputs": [],
   "source": [
    "import pandas as pd\n",
    "import matplotlib.pyplot as plt\n",
    "from mpl_toolkits.mplot3d import axes3d, Axes3D\n",
    "import numpy as np\n",
    "import scipy as sp\n",
    "from scipy import stats\n",
    "%matplotlib inline"
   ]
  },
  {
   "cell_type": "markdown",
   "metadata": {},
   "source": [
    "# Import mark (upload) dataset"
   ]
  },
  {
   "cell_type": "code",
   "execution_count": 2,
   "metadata": {
    "ExecuteTime": {
     "end_time": "2020-02-06T00:53:07.943818Z",
     "start_time": "2020-02-06T00:53:07.780570Z"
    }
   },
   "outputs": [],
   "source": [
    "dataUpload = pd.read_csv('~/Python_data_analytics/einstein/analysis/uploads1.csv', sep=\",\")"
   ]
  },
  {
   "cell_type": "code",
   "execution_count": 3,
   "metadata": {
    "ExecuteTime": {
     "end_time": "2020-02-06T00:53:09.829548Z",
     "start_time": "2020-02-06T00:53:09.824240Z"
    }
   },
   "outputs": [],
   "source": [
    "pd.options.display.max_colwidth = 100 #show full string value"
   ]
  },
  {
   "cell_type": "code",
   "execution_count": 4,
   "metadata": {
    "ExecuteTime": {
     "end_time": "2020-02-06T00:53:11.412430Z",
     "start_time": "2020-02-06T00:53:11.337628Z"
    }
   },
   "outputs": [],
   "source": [
    "dataUpload['date'] = pd.to_datetime(dataUpload.date)\n",
    "dataUpload = dataUpload.set_index('date')\n",
    "dataUpload = dataUpload.sort_index()"
   ]
  },
  {
   "cell_type": "markdown",
   "metadata": {},
   "source": [
    "# Aggregate mark (upload) "
   ]
  },
  {
   "cell_type": "code",
   "execution_count": 5,
   "metadata": {
    "ExecuteTime": {
     "end_time": "2020-02-06T00:53:16.348182Z",
     "start_time": "2020-02-06T00:53:16.265434Z"
    }
   },
   "outputs": [],
   "source": [
    "uploadSumGroupedbyWeek = dataUpload.groupby([pd.Grouper(freq='12W'),pd.Grouper(key='user')]).sum()\n",
    "uploadCountGroupedbyWeek = dataUpload.groupby([pd.Grouper(freq='12W'),pd.Grouper(key='user')]).count()"
   ]
  },
  {
   "cell_type": "code",
   "execution_count": 6,
   "metadata": {
    "ExecuteTime": {
     "end_time": "2020-02-06T00:53:20.054405Z",
     "start_time": "2020-02-06T00:53:19.875552Z"
    }
   },
   "outputs": [
    {
     "name": "stderr",
     "output_type": "stream",
     "text": [
      "/home/tai/anaconda3/lib/python3.7/site-packages/pandas/core/indexing.py:362: SettingWithCopyWarning: \n",
      "A value is trying to be set on a copy of a slice from a DataFrame.\n",
      "Try using .loc[row_indexer,col_indexer] = value instead\n",
      "\n",
      "See the caveats in the documentation: http://pandas.pydata.org/pandas-docs/stable/indexing.html#indexing-view-versus-copy\n",
      "  self.obj[key] = _infer_fill_value(value)\n",
      "/home/tai/anaconda3/lib/python3.7/site-packages/pandas/core/indexing.py:543: SettingWithCopyWarning: \n",
      "A value is trying to be set on a copy of a slice from a DataFrame.\n",
      "Try using .loc[row_indexer,col_indexer] = value instead\n",
      "\n",
      "See the caveats in the documentation: http://pandas.pydata.org/pandas-docs/stable/indexing.html#indexing-view-versus-copy\n",
      "  self.obj[item] = s\n"
     ]
    }
   ],
   "source": [
    "filterSemester1 = uploadSumGroupedbyWeek.loc['2018-09-30':'2018-09-30']\n",
    "#calculate the average mark of each student\n",
    "filterSemester1.loc[:,'mark'] = filterSemester1.loc[:,'passed']/(filterSemester1.loc[:,'passed'] + filterSemester1.loc[:,'failed'])\n",
    "filterSemester1.loc[:,'mark_overall'] = filterSemester1.loc[:,'correct']/uploadCountGroupedbyWeek.loc[:,'correct']"
   ]
  },
  {
   "cell_type": "markdown",
   "metadata": {},
   "source": [
    "# Import learning process data"
   ]
  },
  {
   "cell_type": "code",
   "execution_count": 7,
   "metadata": {
    "ExecuteTime": {
     "end_time": "2020-02-06T00:53:27.393091Z",
     "start_time": "2020-02-06T00:53:23.142452Z"
    }
   },
   "outputs": [],
   "source": [
    "activity = pd.read_csv('~/Python_data_analytics/einstein/analysis/activity1.csv', sep=\",\")\n",
    "activity = activity.drop(activity.index[140608])\n",
    "activity.loc[:,'time:timestamp'] = pd.to_datetime(activity['time:timestamp'])\n",
    "activity = activity.set_index('time:timestamp')\n",
    "#activity = activity.sort_index()\n",
    "activity = activity.loc['2018-09-24':'2018-12-16']"
   ]
  },
  {
   "cell_type": "markdown",
   "metadata": {},
   "source": [
    "# Merge learning process & mark data"
   ]
  },
  {
   "cell_type": "code",
   "execution_count": 8,
   "metadata": {
    "ExecuteTime": {
     "end_time": "2020-02-06T00:53:30.247289Z",
     "start_time": "2020-02-06T00:53:30.002701Z"
    }
   },
   "outputs": [
    {
     "name": "stdout",
     "output_type": "stream",
     "text": [
      "2018-09-30 00:00:00  120\n",
      "2018-12-23 00:00:00  126\n"
     ]
    }
   ],
   "source": [
    "tempAct = activity.loc[activity['concept:instance'] == 'load']\n",
    "tempAct = tempAct.groupby([pd.Grouper(freq='12W'),pd.Grouper(key='org:resource')]).count()\n",
    "\n",
    "#to check how many students in each week\n",
    "for index, row in tempAct.groupby(level=0):\n",
    "    print(str(index) + '  ' + str(len(row)))"
   ]
  },
  {
   "cell_type": "code",
   "execution_count": 9,
   "metadata": {
    "ExecuteTime": {
     "end_time": "2020-02-06T00:53:34.448725Z",
     "start_time": "2020-02-06T00:53:33.261879Z"
    }
   },
   "outputs": [
    {
     "name": "stdout",
     "output_type": "stream",
     "text": [
      "115\n",
      "115\n",
      "115\n",
      "115\n",
      "109\n"
     ]
    }
   ],
   "source": [
    "activityList = ['load','scroll','focus','blur','unload']\n",
    "\"\"\" ,'hashchange','click-0','selection','click-2 ','click-1' \"\"\"\n",
    "combinedActivityMarkByWeek = []\n",
    "\n",
    "for al in activityList:\n",
    "    tempAct = activity.loc[activity['concept:instance'] == al]\n",
    "    tempAct = tempAct.groupby([pd.Grouper(freq='W'),pd.Grouper(key='org:resource')]).count()\n",
    "    tempAct[al] = tempAct['concept:instance']\n",
    "    tempAct.drop(['case:concept:name','concept:instance','concept:name','lifecycle:transition','description'], axis=1, inplace=True)    \n",
    "    \n",
    "    tempCombinedData = []\n",
    "    if len(combinedActivityMarkByWeek) > 0:        \n",
    "        combinedActivityMarkByWeek = pd.merge(combinedActivityMarkByWeek,tempAct, left_on=combinedActivityMarkByWeek.index, right_on=tempAct.index)    \n",
    "        print(len(combinedActivityMarkByWeek))\n",
    "    else:\n",
    "        combinedActivityMarkByWeek = pd.merge(filterSemester1,tempAct, left_on=filterSemester1.index, right_on=tempAct.index)\n",
    "        print(len(combinedActivityMarkByWeek))\n",
    "    combinedActivityMarkByWeek.index = pd.MultiIndex.from_tuples(combinedActivityMarkByWeek['key_0'], names=('date', 'user')) \n",
    "    combinedActivityMarkByWeek.drop(['key_0'], axis = 1, inplace=True) \n",
    "    \n",
    "#combinedActivityMarkByWeek    "
   ]
  },
  {
   "cell_type": "markdown",
   "metadata": {},
   "source": [
    "# Construct cohort dataset"
   ]
  },
  {
   "cell_type": "code",
   "execution_count": 10,
   "metadata": {
    "ExecuteTime": {
     "end_time": "2020-02-06T00:53:38.505389Z",
     "start_time": "2020-02-06T00:53:38.420614Z"
    }
   },
   "outputs": [
    {
     "name": "stdout",
     "output_type": "stream",
     "text": [
      "Excellent cohort:\n",
      "32\n",
      "Good cohort:\n",
      "36\n",
      "Medium cohort:\n",
      "24\n",
      "Bad cohort:\n",
      "17\n"
     ]
    }
   ],
   "source": [
    "#based on percentile\n",
    "   \n",
    "excellentCohort = pd.DataFrame()\n",
    "goodCohort = pd.DataFrame()\n",
    "mediumCohort = pd.DataFrame()\n",
    "badCohort = pd.DataFrame()\n",
    "\n",
    "for index, weeklyData in combinedActivityMarkByWeek.groupby(level=0):\n",
    "    excellentPoint = 0.7 #np.percentile(weeklyData['mark'],75)\n",
    "    goodPoint = 0.6#np.percentile(weeklyData['mark'],50)\n",
    "    mediumPoint = 0.5#np.percentile(weeklyData['mark'],25)\n",
    "        \n",
    "    excellentCohort = pd.concat([excellentCohort,weeklyData.loc[weeklyData['mark'] >= excellentPoint]])\n",
    "    goodCohort = pd.concat([goodCohort,weeklyData.loc[(weeklyData['mark'] < excellentPoint) & (weeklyData['mark'] >= goodPoint)]])\n",
    "    mediumCohort = pd.concat([mediumCohort,weeklyData.loc[(weeklyData['mark'] < goodPoint) & (weeklyData['mark'] >= mediumPoint)]])\n",
    "    badCohort = pd.concat([badCohort,weeklyData.loc[(weeklyData['mark'] < mediumPoint)]])\n",
    "\n",
    "print('Excellent cohort:')\n",
    "for i,row in excellentCohort.groupby(level=0):\n",
    "    print(len(row))\n",
    "print('Good cohort:')\n",
    "for i,row in goodCohort.groupby(level=0):\n",
    "    print(len(row))\n",
    "print('Medium cohort:')\n",
    "for i,row in mediumCohort.groupby(level=0):\n",
    "    print(len(row))\n",
    "print('Bad cohort:')\n",
    "for i,row in badCohort.groupby(level=0):\n",
    "    print(len(row)) \n"
   ]
  },
  {
   "cell_type": "markdown",
   "metadata": {},
   "source": [
    "# PCA for each cohort"
   ]
  },
  {
   "cell_type": "code",
   "execution_count": 11,
   "metadata": {
    "ExecuteTime": {
     "end_time": "2020-02-06T00:54:00.086409Z",
     "start_time": "2020-02-06T00:53:58.944763Z"
    }
   },
   "outputs": [
    {
     "name": "stderr",
     "output_type": "stream",
     "text": [
      "/home/tai/anaconda3/lib/python3.7/site-packages/sklearn/utils/validation.py:595: DataConversionWarning: Data with input dtype int64 was converted to float64 by StandardScaler.\n",
      "  warnings.warn(msg, DataConversionWarning)\n",
      "/home/tai/anaconda3/lib/python3.7/site-packages/sklearn/utils/validation.py:595: DataConversionWarning: Data with input dtype int64 was converted to float64 by StandardScaler.\n",
      "  warnings.warn(msg, DataConversionWarning)\n",
      "/home/tai/anaconda3/lib/python3.7/site-packages/sklearn/utils/validation.py:595: DataConversionWarning: Data with input dtype int64 was converted to float64 by StandardScaler.\n",
      "  warnings.warn(msg, DataConversionWarning)\n",
      "/home/tai/anaconda3/lib/python3.7/site-packages/sklearn/utils/validation.py:595: DataConversionWarning: Data with input dtype int64 was converted to float64 by StandardScaler.\n",
      "  warnings.warn(msg, DataConversionWarning)\n",
      "/home/tai/anaconda3/lib/python3.7/site-packages/sklearn/utils/validation.py:595: DataConversionWarning: Data with input dtype int64 was converted to float64 by StandardScaler.\n",
      "  warnings.warn(msg, DataConversionWarning)\n",
      "/home/tai/anaconda3/lib/python3.7/site-packages/sklearn/utils/validation.py:595: DataConversionWarning: Data with input dtype int64 was converted to float64 by StandardScaler.\n",
      "  warnings.warn(msg, DataConversionWarning)\n",
      "/home/tai/anaconda3/lib/python3.7/site-packages/sklearn/utils/validation.py:595: DataConversionWarning: Data with input dtype int64 was converted to float64 by StandardScaler.\n",
      "  warnings.warn(msg, DataConversionWarning)\n",
      "/home/tai/anaconda3/lib/python3.7/site-packages/sklearn/utils/validation.py:595: DataConversionWarning: Data with input dtype int64 was converted to float64 by StandardScaler.\n",
      "  warnings.warn(msg, DataConversionWarning)\n"
     ]
    }
   ],
   "source": [
    "from sklearn.decomposition import PCA\n",
    "from sklearn import preprocessing\n",
    "from sklearn.preprocessing import StandardScaler\n",
    "\n",
    "scaler = StandardScaler()\n",
    "\n",
    "loadingsArrayExcellentCohortArray = []\n",
    "pcValueExcellentCohortArray = []\n",
    "\n",
    "loadingsArrayBadCohortArray = []\n",
    "pcValueBadCohortArray = []\n",
    "\n",
    "loadingsArrayGoodCohortArray = []\n",
    "pcValueGoodCohortArray = []\n",
    "\n",
    "loadingsArrayMediumCohortArray = []\n",
    "pcValueMediumCohortArray = []\n",
    "\n",
    "pca = PCA(n_components=5)\n",
    "dropColumn1 = ['correct','failed','passed','version','timeout',\n",
    "                                'mark','mark_overall']\n",
    "for datasetName, dataset in zip(['excellent','bad','good','medium'],\n",
    "                                [excellentCohort,badCohort, goodCohort, mediumCohort]):\n",
    "    for i,weeklyActivity in dataset.groupby(level=0):\n",
    "        temp = weeklyActivity.drop(dropColumn1, axis=1)    \n",
    "        x = temp.values    \n",
    "        #x_adjust = x - np.mean(x)    \n",
    "        scaler.fit(x)\n",
    "        x = scaler.transform(x)\n",
    "        pca.fit(x)\n",
    "        # transformed value to array\n",
    "        transformed_value = pca.fit_transform(x)\n",
    "        countValue = 0\n",
    "        for t in transformed_value:\n",
    "            row_list = []\n",
    "            row_list.append(i)\n",
    "            countValue1 = 0\n",
    "            for u,tp in weeklyActivity.groupby(level=1):\n",
    "                if countValue == countValue1:\n",
    "                    row_list.append(u)\n",
    "                countValue1 = countValue1 + 1\n",
    "            for v in t:\n",
    "                row_list.append(v)\n",
    "            if datasetName == 'excellent':\n",
    "                pcValueExcellentCohortArray.append(row_list)\n",
    "            elif datasetName == 'bad':\n",
    "                pcValueBadCohortArray.append(row_list)\n",
    "            elif datasetName == 'good':\n",
    "                pcValueGoodCohortArray.append(row_list)\n",
    "            elif datasetName == 'medium':\n",
    "                pcValueMediumCohortArray.append(row_list)\n",
    "            else:\n",
    "                print('error')\n",
    "            countValue = countValue + 1\n",
    "\n",
    "        count = 1    \n",
    "        # eigenvectors/loadings to array\n",
    "        for k,l in zip(pca.explained_variance_ratio_,pca.explained_variance_):\n",
    "            row_list = []\n",
    "            row_list.append(i)\n",
    "            row_list.append(count)\n",
    "            row_list.append(k)\n",
    "            row_list.append(l)\n",
    "            for j in pca.components_[count-1]:\n",
    "                row_list.append(j)\n",
    "            if datasetName == 'excellent':\n",
    "                loadingsArrayExcellentCohortArray.append(row_list)\n",
    "            elif datasetName == 'bad':\n",
    "                loadingsArrayBadCohortArray.append(row_list)\n",
    "            elif datasetName == 'good':\n",
    "                loadingsArrayGoodCohortArray.append(row_list)\n",
    "            elif datasetName == 'medium':\n",
    "                loadingsArrayMediumCohortArray.append(row_list)\n",
    "            else:\n",
    "                print('error')\n",
    "            count = count + 1\n",
    "        \n",
    "#loadings\n",
    "ccolumns = ['date','pc','explained_var_ratio','eigenvalues','load','scroll','focus','blur','unload']\n",
    "loadingsArrayExcellentCohort = pd.DataFrame(loadingsArrayExcellentCohortArray,columns=ccolumns)\n",
    "loadingsArrayExcellentCohort = loadingsArrayExcellentCohort.set_index(['date', 'pc'])\n",
    "\n",
    "column11 = ['date','user','pc1','pc2','pc3','pc4','pc5']\n",
    "#transformed value (principal components)\n",
    "pcValueExcellentCohort = pd.DataFrame(pcValueExcellentCohortArray,columns=column11)\n",
    "pcValueExcellentCohort = pcValueExcellentCohort.set_index(['date','user']);\n",
    "\n",
    "loadingsArrayBadCohort = pd.DataFrame(loadingsArrayBadCohortArray,columns=ccolumns)\n",
    "loadingsArrayBadCohort = loadingsArrayBadCohort.set_index(['date', 'pc'])\n",
    "\n",
    "#transformed value (principal components)\n",
    "pcValueBadCohort = pd.DataFrame(pcValueBadCohortArray,columns=column11)\n",
    "pcValueBadCohort = pcValueBadCohort.set_index(['date','user'])\n",
    "\n",
    "loadingsArrayGoodCohort = pd.DataFrame(loadingsArrayGoodCohortArray,columns=ccolumns)\n",
    "loadingsArrayGoodCohort = loadingsArrayGoodCohort.set_index(['date', 'pc'])\n",
    "\n",
    "#transformed value (principal components)\n",
    "pcValueGoodCohort = pd.DataFrame(pcValueGoodCohortArray,columns=column11)\n",
    "pcValueGoodCohort = pcValueGoodCohort.set_index(['date','user'])\n",
    "\n",
    "loadingsArrayMediumCohort = pd.DataFrame(loadingsArrayMediumCohortArray,columns=ccolumns)\n",
    "loadingsArrayMediumCohort = loadingsArrayMediumCohort.set_index(['date', 'pc'])\n",
    "\n",
    "#transformed value (principal components)\n",
    "pcValueMediumCohort = pd.DataFrame(pcValueMediumCohortArray,columns=column11)\n",
    "pcValueMediumCohort = pcValueMediumCohort.set_index(['date','user'])"
   ]
  },
  {
   "cell_type": "code",
   "execution_count": 13,
   "metadata": {
    "ExecuteTime": {
     "end_time": "2020-02-06T00:55:27.352902Z",
     "start_time": "2020-02-06T00:55:27.327424Z"
    }
   },
   "outputs": [],
   "source": [
    "def getNumberOfPCs(df,acceptedPercentage):\n",
    "    temp = df['explained_var_ratio']\n",
    "    sumContrPer = 0\n",
    "    for i,j in zip(temp,range(0,len(temp))):\n",
    "        sumContrPer = sumContrPer + i\n",
    "        if sumContrPer >= acceptedPercentage:\n",
    "            break\n",
    "    return [sumContrPer,j]\n",
    "\n",
    "def contrCal(df,numOfPCs):\n",
    "    #get sum of eigenvalues of the first number of PCs in df\n",
    "    totalContrPCs = sum(df['eigenvalues'].head(numOfPCs))\n",
    "    #calculate contribution of variables into number of PCs\n",
    "    temp = pd.DataFrame(columns=df.columns)\n",
    "    listContr = []\n",
    "    columns = df.columns\n",
    "    for c in columns:        \n",
    "        if c not in ['explained_var_ratio','eigenvalues']:\n",
    "            temp[c] = df[c]*df[c]*df['eigenvalues']\n",
    "            temp1 = [c,sum(temp[c].head(numOfPCs))/totalContrPCs]            \n",
    "            listContr.append(temp1)\n",
    "    result = pd.DataFrame(listContr,columns=['transition','contr_percentage'])\n",
    "    return result"
   ]
  },
  {
   "cell_type": "code",
   "execution_count": 12,
   "metadata": {
    "ExecuteTime": {
     "end_time": "2020-02-06T00:54:15.238313Z",
     "start_time": "2020-02-06T00:54:15.216876Z"
    }
   },
   "outputs": [
    {
     "data": {
      "text/html": [
       "<div>\n",
       "<style scoped>\n",
       "    .dataframe tbody tr th:only-of-type {\n",
       "        vertical-align: middle;\n",
       "    }\n",
       "\n",
       "    .dataframe tbody tr th {\n",
       "        vertical-align: top;\n",
       "    }\n",
       "\n",
       "    .dataframe thead th {\n",
       "        text-align: right;\n",
       "    }\n",
       "</style>\n",
       "<table border=\"1\" class=\"dataframe\">\n",
       "  <thead>\n",
       "    <tr style=\"text-align: right;\">\n",
       "      <th></th>\n",
       "      <th></th>\n",
       "      <th>explained_var_ratio</th>\n",
       "      <th>eigenvalues</th>\n",
       "      <th>load</th>\n",
       "      <th>scroll</th>\n",
       "      <th>focus</th>\n",
       "      <th>blur</th>\n",
       "      <th>unload</th>\n",
       "    </tr>\n",
       "    <tr>\n",
       "      <th>date</th>\n",
       "      <th>pc</th>\n",
       "      <th></th>\n",
       "      <th></th>\n",
       "      <th></th>\n",
       "      <th></th>\n",
       "      <th></th>\n",
       "      <th></th>\n",
       "      <th></th>\n",
       "    </tr>\n",
       "  </thead>\n",
       "  <tbody>\n",
       "    <tr>\n",
       "      <th rowspan=\"5\" valign=\"top\">2018-09-30</th>\n",
       "      <th>1</th>\n",
       "      <td>0.501834</td>\n",
       "      <td>2.590113</td>\n",
       "      <td>0.421529</td>\n",
       "      <td>0.507479</td>\n",
       "      <td>0.463449</td>\n",
       "      <td>0.559659</td>\n",
       "      <td>0.191770</td>\n",
       "    </tr>\n",
       "    <tr>\n",
       "      <th>2</th>\n",
       "      <td>0.288966</td>\n",
       "      <td>1.491436</td>\n",
       "      <td>0.373189</td>\n",
       "      <td>-0.162070</td>\n",
       "      <td>-0.514368</td>\n",
       "      <td>0.033402</td>\n",
       "      <td>0.754170</td>\n",
       "    </tr>\n",
       "    <tr>\n",
       "      <th>3</th>\n",
       "      <td>0.121744</td>\n",
       "      <td>0.628357</td>\n",
       "      <td>0.638430</td>\n",
       "      <td>0.369808</td>\n",
       "      <td>-0.164359</td>\n",
       "      <td>-0.569292</td>\n",
       "      <td>-0.323331</td>\n",
       "    </tr>\n",
       "    <tr>\n",
       "      <th>4</th>\n",
       "      <td>0.080309</td>\n",
       "      <td>0.414498</td>\n",
       "      <td>-0.509549</td>\n",
       "      <td>0.761087</td>\n",
       "      <td>-0.349637</td>\n",
       "      <td>-0.078733</td>\n",
       "      <td>0.180722</td>\n",
       "    </tr>\n",
       "    <tr>\n",
       "      <th>5</th>\n",
       "      <td>0.007147</td>\n",
       "      <td>0.036887</td>\n",
       "      <td>-0.125738</td>\n",
       "      <td>0.013672</td>\n",
       "      <td>0.609410</td>\n",
       "      <td>-0.596133</td>\n",
       "      <td>0.507197</td>\n",
       "    </tr>\n",
       "  </tbody>\n",
       "</table>\n",
       "</div>"
      ],
      "text/plain": [
       "               explained_var_ratio  eigenvalues      load    scroll     focus  \\\n",
       "date       pc                                                                   \n",
       "2018-09-30 1              0.501834     2.590113  0.421529  0.507479  0.463449   \n",
       "           2              0.288966     1.491436  0.373189 -0.162070 -0.514368   \n",
       "           3              0.121744     0.628357  0.638430  0.369808 -0.164359   \n",
       "           4              0.080309     0.414498 -0.509549  0.761087 -0.349637   \n",
       "           5              0.007147     0.036887 -0.125738  0.013672  0.609410   \n",
       "\n",
       "                   blur    unload  \n",
       "date       pc                      \n",
       "2018-09-30 1   0.559659  0.191770  \n",
       "           2   0.033402  0.754170  \n",
       "           3  -0.569292 -0.323331  \n",
       "           4  -0.078733  0.180722  \n",
       "           5  -0.596133  0.507197  "
      ]
     },
     "execution_count": 12,
     "metadata": {},
     "output_type": "execute_result"
    }
   ],
   "source": [
    "loadingsArrayExcellentCohort"
   ]
  },
  {
   "cell_type": "code",
   "execution_count": 17,
   "metadata": {
    "ExecuteTime": {
     "end_time": "2020-02-06T00:56:55.873716Z",
     "start_time": "2020-02-06T00:56:55.841913Z"
    }
   },
   "outputs": [],
   "source": [
    "numberOfPcs = getNumberOfPCs(loadingsArrayExcellentCohort,0.30)[1]\n",
    "\n",
    "resultExcellent = contrCal(loadingsArrayExcellentCohort,1)"
   ]
  },
  {
   "cell_type": "code",
   "execution_count": 18,
   "metadata": {
    "ExecuteTime": {
     "end_time": "2020-02-06T00:56:57.691756Z",
     "start_time": "2020-02-06T00:56:57.677206Z"
    }
   },
   "outputs": [
    {
     "data": {
      "text/html": [
       "<div>\n",
       "<style scoped>\n",
       "    .dataframe tbody tr th:only-of-type {\n",
       "        vertical-align: middle;\n",
       "    }\n",
       "\n",
       "    .dataframe tbody tr th {\n",
       "        vertical-align: top;\n",
       "    }\n",
       "\n",
       "    .dataframe thead th {\n",
       "        text-align: right;\n",
       "    }\n",
       "</style>\n",
       "<table border=\"1\" class=\"dataframe\">\n",
       "  <thead>\n",
       "    <tr style=\"text-align: right;\">\n",
       "      <th></th>\n",
       "      <th>transition</th>\n",
       "      <th>contr_percentage</th>\n",
       "    </tr>\n",
       "  </thead>\n",
       "  <tbody>\n",
       "    <tr>\n",
       "      <th>0</th>\n",
       "      <td>load</td>\n",
       "      <td>0.177687</td>\n",
       "    </tr>\n",
       "    <tr>\n",
       "      <th>1</th>\n",
       "      <td>scroll</td>\n",
       "      <td>0.257535</td>\n",
       "    </tr>\n",
       "    <tr>\n",
       "      <th>2</th>\n",
       "      <td>focus</td>\n",
       "      <td>0.214785</td>\n",
       "    </tr>\n",
       "    <tr>\n",
       "      <th>3</th>\n",
       "      <td>blur</td>\n",
       "      <td>0.313218</td>\n",
       "    </tr>\n",
       "    <tr>\n",
       "      <th>4</th>\n",
       "      <td>unload</td>\n",
       "      <td>0.036776</td>\n",
       "    </tr>\n",
       "  </tbody>\n",
       "</table>\n",
       "</div>"
      ],
      "text/plain": [
       "  transition  contr_percentage\n",
       "0       load          0.177687\n",
       "1     scroll          0.257535\n",
       "2      focus          0.214785\n",
       "3       blur          0.313218\n",
       "4     unload          0.036776"
      ]
     },
     "execution_count": 18,
     "metadata": {},
     "output_type": "execute_result"
    }
   ],
   "source": [
    "resultExcellent"
   ]
  },
  {
   "cell_type": "code",
   "execution_count": 19,
   "metadata": {
    "ExecuteTime": {
     "end_time": "2019-12-09T22:29:58.813801Z",
     "start_time": "2019-12-09T22:29:58.801574Z"
    }
   },
   "outputs": [
    {
     "data": {
      "text/html": [
       "<div>\n",
       "<style scoped>\n",
       "    .dataframe tbody tr th:only-of-type {\n",
       "        vertical-align: middle;\n",
       "    }\n",
       "\n",
       "    .dataframe tbody tr th {\n",
       "        vertical-align: top;\n",
       "    }\n",
       "\n",
       "    .dataframe thead th {\n",
       "        text-align: right;\n",
       "    }\n",
       "</style>\n",
       "<table border=\"1\" class=\"dataframe\">\n",
       "  <thead>\n",
       "    <tr style=\"text-align: right;\">\n",
       "      <th></th>\n",
       "      <th></th>\n",
       "      <th>explained_var_ratio</th>\n",
       "      <th>eigenvalues</th>\n",
       "      <th>load</th>\n",
       "      <th>scroll</th>\n",
       "      <th>focus</th>\n",
       "      <th>blur</th>\n",
       "      <th>unload</th>\n",
       "    </tr>\n",
       "    <tr>\n",
       "      <th>date</th>\n",
       "      <th>pc</th>\n",
       "      <th></th>\n",
       "      <th></th>\n",
       "      <th></th>\n",
       "      <th></th>\n",
       "      <th></th>\n",
       "      <th></th>\n",
       "      <th></th>\n",
       "    </tr>\n",
       "  </thead>\n",
       "  <tbody>\n",
       "    <tr>\n",
       "      <th rowspan=\"3\" valign=\"top\">2018-09-30</th>\n",
       "      <th>1</th>\n",
       "      <td>0.640577</td>\n",
       "      <td>3.403064</td>\n",
       "      <td>-0.509157</td>\n",
       "      <td>-0.479521</td>\n",
       "      <td>-0.473011</td>\n",
       "      <td>-0.517199</td>\n",
       "      <td>-0.139947</td>\n",
       "    </tr>\n",
       "    <tr>\n",
       "      <th>2</th>\n",
       "      <td>0.247740</td>\n",
       "      <td>1.316120</td>\n",
       "      <td>0.109161</td>\n",
       "      <td>-0.167912</td>\n",
       "      <td>-0.414731</td>\n",
       "      <td>0.193084</td>\n",
       "      <td>0.866375</td>\n",
       "    </tr>\n",
       "    <tr>\n",
       "      <th>3</th>\n",
       "      <td>0.068394</td>\n",
       "      <td>0.363344</td>\n",
       "      <td>0.178344</td>\n",
       "      <td>0.744850</td>\n",
       "      <td>-0.437038</td>\n",
       "      <td>-0.471250</td>\n",
       "      <td>0.017704</td>\n",
       "    </tr>\n",
       "  </tbody>\n",
       "</table>\n",
       "</div>"
      ],
      "text/plain": [
       "               explained_var_ratio  eigenvalues      load    scroll     focus  \\\n",
       "date       pc                                                                   \n",
       "2018-09-30 1              0.640577     3.403064 -0.509157 -0.479521 -0.473011   \n",
       "           2              0.247740     1.316120  0.109161 -0.167912 -0.414731   \n",
       "           3              0.068394     0.363344  0.178344  0.744850 -0.437038   \n",
       "\n",
       "                   blur    unload  \n",
       "date       pc                      \n",
       "2018-09-30 1  -0.517199 -0.139947  \n",
       "           2   0.193084  0.866375  \n",
       "           3  -0.471250  0.017704  "
      ]
     },
     "execution_count": 19,
     "metadata": {},
     "output_type": "execute_result"
    }
   ],
   "source": [
    "loadingsArrayBadCohort"
   ]
  },
  {
   "cell_type": "code",
   "execution_count": 19,
   "metadata": {
    "ExecuteTime": {
     "end_time": "2020-02-06T00:57:04.806023Z",
     "start_time": "2020-02-06T00:57:04.768163Z"
    }
   },
   "outputs": [],
   "source": [
    "numberOfPcs = getNumberOfPCs(loadingsArrayBadCohort,0.30)[1]\n",
    "\n",
    "resultBad = contrCal(loadingsArrayBadCohort,1)"
   ]
  },
  {
   "cell_type": "code",
   "execution_count": 20,
   "metadata": {
    "ExecuteTime": {
     "end_time": "2020-02-06T00:57:11.776091Z",
     "start_time": "2020-02-06T00:57:11.755525Z"
    }
   },
   "outputs": [
    {
     "data": {
      "text/html": [
       "<div>\n",
       "<style scoped>\n",
       "    .dataframe tbody tr th:only-of-type {\n",
       "        vertical-align: middle;\n",
       "    }\n",
       "\n",
       "    .dataframe tbody tr th {\n",
       "        vertical-align: top;\n",
       "    }\n",
       "\n",
       "    .dataframe thead th {\n",
       "        text-align: right;\n",
       "    }\n",
       "</style>\n",
       "<table border=\"1\" class=\"dataframe\">\n",
       "  <thead>\n",
       "    <tr style=\"text-align: right;\">\n",
       "      <th></th>\n",
       "      <th>transition</th>\n",
       "      <th>contr_percentage</th>\n",
       "    </tr>\n",
       "  </thead>\n",
       "  <tbody>\n",
       "    <tr>\n",
       "      <th>0</th>\n",
       "      <td>load</td>\n",
       "      <td>0.259241</td>\n",
       "    </tr>\n",
       "    <tr>\n",
       "      <th>1</th>\n",
       "      <td>scroll</td>\n",
       "      <td>0.229940</td>\n",
       "    </tr>\n",
       "    <tr>\n",
       "      <th>2</th>\n",
       "      <td>focus</td>\n",
       "      <td>0.223739</td>\n",
       "    </tr>\n",
       "    <tr>\n",
       "      <th>3</th>\n",
       "      <td>blur</td>\n",
       "      <td>0.267494</td>\n",
       "    </tr>\n",
       "    <tr>\n",
       "      <th>4</th>\n",
       "      <td>unload</td>\n",
       "      <td>0.019585</td>\n",
       "    </tr>\n",
       "  </tbody>\n",
       "</table>\n",
       "</div>"
      ],
      "text/plain": [
       "  transition  contr_percentage\n",
       "0       load          0.259241\n",
       "1     scroll          0.229940\n",
       "2      focus          0.223739\n",
       "3       blur          0.267494\n",
       "4     unload          0.019585"
      ]
     },
     "execution_count": 20,
     "metadata": {},
     "output_type": "execute_result"
    }
   ],
   "source": [
    "resultBad"
   ]
  },
  {
   "cell_type": "code",
   "execution_count": 20,
   "metadata": {
    "ExecuteTime": {
     "end_time": "2019-12-09T22:31:03.476479Z",
     "start_time": "2019-12-09T22:31:03.069289Z"
    }
   },
   "outputs": [
    {
     "data": {
      "image/png": "[encoded data removed]",
      "text/plain": [
       "<Figure size 1080x720 with 1 Axes>"
      ]
     },
     "metadata": {
      "needs_background": "light"
     },
     "output_type": "display_data"
    }
   ],
   "source": [
    "activityColumns = ['eigenvalues','load','scroll','focus','blur','unload']\n",
    "pc1excellentCohort = loadingsArrayExcellentCohort.loc[(slice(None), slice(1)), activityColumns] #only show principle component 1\n",
    "pc1BadCohort = loadingsArrayBadCohort.loc[(slice(None), slice(1)), activityColumns]\n",
    "pc1MediumCohort = loadingsArrayMediumCohort.loc[(slice(None), slice(1)), activityColumns] #only show principle component 1\n",
    "pc1GoodCohort = loadingsArrayGoodCohort.loc[(slice(None), slice(1)), activityColumns] #only show principle component 1\n",
    "\n",
    "dataBar = pd.DataFrame(columns=activityColumns)\n",
    "dataBar = pd.concat([pc1excellentCohort,pc1GoodCohort,pc1MediumCohort,pc1BadCohort])\n",
    "dataBar['cohort'] = ['excellent','good','medium','bad'] \n",
    "dataBar = dataBar.set_index('cohort')\n",
    "dataBar = dataBar.drop(['eigenvalues'],axis=1)\n",
    "#import seaborn as sns\n",
    "#sns.set(rc={'figure.figsize':(20, 15)})\n",
    "dataBar.plot(kind='bar', figsize=(15, 10))\n",
    "plt.show()"
   ]
  },
  {
   "cell_type": "code",
   "execution_count": 21,
   "metadata": {
    "ExecuteTime": {
     "end_time": "2019-12-09T22:46:39.416526Z",
     "start_time": "2019-12-09T22:46:39.395611Z"
    }
   },
   "outputs": [
    {
     "data": {
      "text/html": [
       "<div>\n",
       "<style scoped>\n",
       "    .dataframe tbody tr th:only-of-type {\n",
       "        vertical-align: middle;\n",
       "    }\n",
       "\n",
       "    .dataframe tbody tr th {\n",
       "        vertical-align: top;\n",
       "    }\n",
       "\n",
       "    .dataframe thead th {\n",
       "        text-align: right;\n",
       "    }\n",
       "</style>\n",
       "<table border=\"1\" class=\"dataframe\">\n",
       "  <thead>\n",
       "    <tr style=\"text-align: right;\">\n",
       "      <th></th>\n",
       "      <th>load</th>\n",
       "      <th>scroll</th>\n",
       "      <th>focus</th>\n",
       "      <th>blur</th>\n",
       "      <th>unload</th>\n",
       "    </tr>\n",
       "    <tr>\n",
       "      <th>cohort</th>\n",
       "      <th></th>\n",
       "      <th></th>\n",
       "      <th></th>\n",
       "      <th></th>\n",
       "      <th></th>\n",
       "    </tr>\n",
       "  </thead>\n",
       "  <tbody>\n",
       "    <tr>\n",
       "      <th>excellent</th>\n",
       "      <td>0.421529</td>\n",
       "      <td>0.507479</td>\n",
       "      <td>0.463449</td>\n",
       "      <td>0.559659</td>\n",
       "      <td>0.191770</td>\n",
       "    </tr>\n",
       "    <tr>\n",
       "      <th>good</th>\n",
       "      <td>0.483730</td>\n",
       "      <td>0.365132</td>\n",
       "      <td>0.480526</td>\n",
       "      <td>0.563253</td>\n",
       "      <td>0.290732</td>\n",
       "    </tr>\n",
       "    <tr>\n",
       "      <th>medium</th>\n",
       "      <td>0.443467</td>\n",
       "      <td>0.276155</td>\n",
       "      <td>0.633547</td>\n",
       "      <td>0.570269</td>\n",
       "      <td>-0.022066</td>\n",
       "    </tr>\n",
       "    <tr>\n",
       "      <th>bad</th>\n",
       "      <td>-0.509157</td>\n",
       "      <td>-0.479521</td>\n",
       "      <td>-0.473011</td>\n",
       "      <td>-0.517199</td>\n",
       "      <td>-0.139947</td>\n",
       "    </tr>\n",
       "  </tbody>\n",
       "</table>\n",
       "</div>"
      ],
      "text/plain": [
       "               load    scroll     focus      blur    unload\n",
       "cohort                                                     \n",
       "excellent  0.421529  0.507479  0.463449  0.559659  0.191770\n",
       "good       0.483730  0.365132  0.480526  0.563253  0.290732\n",
       "medium     0.443467  0.276155  0.633547  0.570269 -0.022066\n",
       "bad       -0.509157 -0.479521 -0.473011 -0.517199 -0.139947"
      ]
     },
     "execution_count": 21,
     "metadata": {},
     "output_type": "execute_result"
    }
   ],
   "source": [
    "dataBar"
   ]
  },
  {
   "cell_type": "code",
   "execution_count": 31,
   "metadata": {
    "ExecuteTime": {
     "end_time": "2019-12-09T22:54:21.808433Z",
     "start_time": "2019-12-09T22:54:21.803139Z"
    }
   },
   "outputs": [],
   "source": [
    "dropColumn1 = ['correct','failed','passed','version','timeout',\n",
    "                                'mark','mark_overall']\n",
    "temp = mediumCohort.drop(dropColumn1, axis=1)   \n",
    "\n",
    "corr = temp.corr()"
   ]
  },
  {
   "cell_type": "code",
   "execution_count": 32,
   "metadata": {
    "ExecuteTime": {
     "end_time": "2019-12-09T22:54:24.122499Z",
     "start_time": "2019-12-09T22:54:24.109650Z"
    }
   },
   "outputs": [
    {
     "data": {
      "text/html": [
       "<div>\n",
       "<style scoped>\n",
       "    .dataframe tbody tr th:only-of-type {\n",
       "        vertical-align: middle;\n",
       "    }\n",
       "\n",
       "    .dataframe tbody tr th {\n",
       "        vertical-align: top;\n",
       "    }\n",
       "\n",
       "    .dataframe thead th {\n",
       "        text-align: right;\n",
       "    }\n",
       "</style>\n",
       "<table border=\"1\" class=\"dataframe\">\n",
       "  <thead>\n",
       "    <tr style=\"text-align: right;\">\n",
       "      <th></th>\n",
       "      <th>load</th>\n",
       "      <th>scroll</th>\n",
       "      <th>focus</th>\n",
       "      <th>blur</th>\n",
       "      <th>unload</th>\n",
       "    </tr>\n",
       "  </thead>\n",
       "  <tbody>\n",
       "    <tr>\n",
       "      <th>load</th>\n",
       "      <td>1.000000</td>\n",
       "      <td>-0.247341</td>\n",
       "      <td>0.569987</td>\n",
       "      <td>0.364315</td>\n",
       "      <td>-0.103649</td>\n",
       "    </tr>\n",
       "    <tr>\n",
       "      <th>scroll</th>\n",
       "      <td>-0.247341</td>\n",
       "      <td>1.000000</td>\n",
       "      <td>0.354497</td>\n",
       "      <td>0.346753</td>\n",
       "      <td>-0.022227</td>\n",
       "    </tr>\n",
       "    <tr>\n",
       "      <th>focus</th>\n",
       "      <td>0.569987</td>\n",
       "      <td>0.354497</td>\n",
       "      <td>1.000000</td>\n",
       "      <td>0.630491</td>\n",
       "      <td>-0.370406</td>\n",
       "    </tr>\n",
       "    <tr>\n",
       "      <th>blur</th>\n",
       "      <td>0.364315</td>\n",
       "      <td>0.346753</td>\n",
       "      <td>0.630491</td>\n",
       "      <td>1.000000</td>\n",
       "      <td>0.458997</td>\n",
       "    </tr>\n",
       "    <tr>\n",
       "      <th>unload</th>\n",
       "      <td>-0.103649</td>\n",
       "      <td>-0.022227</td>\n",
       "      <td>-0.370406</td>\n",
       "      <td>0.458997</td>\n",
       "      <td>1.000000</td>\n",
       "    </tr>\n",
       "  </tbody>\n",
       "</table>\n",
       "</div>"
      ],
      "text/plain": [
       "            load    scroll     focus      blur    unload\n",
       "load    1.000000 -0.247341  0.569987  0.364315 -0.103649\n",
       "scroll -0.247341  1.000000  0.354497  0.346753 -0.022227\n",
       "focus   0.569987  0.354497  1.000000  0.630491 -0.370406\n",
       "blur    0.364315  0.346753  0.630491  1.000000  0.458997\n",
       "unload -0.103649 -0.022227 -0.370406  0.458997  1.000000"
      ]
     },
     "execution_count": 32,
     "metadata": {},
     "output_type": "execute_result"
    }
   ],
   "source": [
    "corr"
   ]
  },
  {
   "cell_type": "markdown",
   "metadata": {},
   "source": [
    "# Try Factor Analysis"
   ]
  },
  {
   "cell_type": "code",
   "execution_count": 52,
   "metadata": {
    "ExecuteTime": {
     "end_time": "2019-12-12T00:23:42.752346Z",
     "start_time": "2019-12-12T00:23:42.741497Z"
    }
   },
   "outputs": [],
   "source": [
    "testDataExcellent = excellentCohort.drop(dropColumn1, axis=1)\n",
    "testDataBad = badCohort.drop(dropColumn1, axis=1)"
   ]
  },
  {
   "cell_type": "code",
   "execution_count": 55,
   "metadata": {
    "ExecuteTime": {
     "end_time": "2019-12-12T00:24:02.534833Z",
     "start_time": "2019-12-12T00:24:02.491585Z"
    }
   },
   "outputs": [
    {
     "data": {
      "text/plain": [
       "(102.92102114446321, 6.5409276956113905e-18)"
      ]
     },
     "execution_count": 55,
     "metadata": {},
     "output_type": "execute_result"
    }
   ],
   "source": [
    "from factor_analyzer.factor_analyzer import calculate_bartlett_sphericity\n",
    "chi_square_value,p_value=calculate_bartlett_sphericity(testDataExcellent)\n",
    "chi_square_value, p_value"
   ]
  },
  {
   "cell_type": "code",
   "execution_count": 56,
   "metadata": {
    "ExecuteTime": {
     "end_time": "2019-12-12T00:24:04.369488Z",
     "start_time": "2019-12-12T00:24:04.340717Z"
    }
   },
   "outputs": [
    {
     "data": {
      "text/plain": [
       "0.36660368597811877"
      ]
     },
     "execution_count": 56,
     "metadata": {},
     "output_type": "execute_result"
    }
   ],
   "source": [
    "from factor_analyzer.factor_analyzer import calculate_kmo\n",
    "kmo_all,kmo_model=calculate_kmo(testDataExcellent)\n",
    "kmo_model"
   ]
  },
  {
   "cell_type": "code",
   "execution_count": 73,
   "metadata": {
    "ExecuteTime": {
     "end_time": "2019-12-12T00:45:42.356243Z",
     "start_time": "2019-12-12T00:45:42.296481Z"
    }
   },
   "outputs": [
    {
     "data": {
      "text/plain": [
       "array([[ 0.64101957,  0.36796286,  0.52894075],\n",
       "       [ 0.65264943, -0.1546935 ,  0.14341833],\n",
       "       [ 0.72769672, -0.62692713, -0.03406036],\n",
       "       [ 0.92887691,  0.01164037, -0.36338757],\n",
       "       [ 0.33941239,  0.91478561, -0.20722677]])"
      ]
     },
     "execution_count": 73,
     "metadata": {},
     "output_type": "execute_result"
    }
   ],
   "source": [
    "from factor_analyzer import FactorAnalyzer\n",
    "import matplotlib.pyplot as plt\n",
    "\n",
    "fa = FactorAnalyzer(rotation=None)\n",
    "fa.fit(testDataExcellent)\n",
    "FactorAnalyzer(bounds=(0.005, 1), is_corr_matrix=False,\n",
    "        method='minres', n_factors=2, rotation=None, rotation_kwargs={},\n",
    "        use_smc=True)\n",
    "fa.loadings_\n",
    "\n"
   ]
  },
  {
   "cell_type": "code",
   "execution_count": 70,
   "metadata": {
    "ExecuteTime": {
     "end_time": "2019-12-12T00:44:12.491663Z",
     "start_time": "2019-12-12T00:44:12.481575Z"
    }
   },
   "outputs": [
    {
     "data": {
      "text/plain": [
       "(array([2.50917151, 1.44482824, 0.60872097, 0.40154452, 0.03573476]),\n",
       " array([ 2.34441117e+00,  1.38933065e+00,  4.76499986e-01,  4.98328337e-06,\n",
       "        -5.34164075e-07]))"
      ]
     },
     "execution_count": 70,
     "metadata": {},
     "output_type": "execute_result"
    }
   ],
   "source": [
    "fa.get_eigenvalues()"
   ]
  },
  {
   "cell_type": "code",
   "execution_count": 65,
   "metadata": {
    "ExecuteTime": {
     "end_time": "2019-12-12T00:39:22.984027Z",
     "start_time": "2019-12-12T00:39:22.940775Z"
    }
   },
   "outputs": [
    {
     "data": {
      "text/html": [
       "<div>\n",
       "<style scoped>\n",
       "    .dataframe tbody tr th:only-of-type {\n",
       "        vertical-align: middle;\n",
       "    }\n",
       "\n",
       "    .dataframe tbody tr th {\n",
       "        vertical-align: top;\n",
       "    }\n",
       "\n",
       "    .dataframe thead th {\n",
       "        text-align: right;\n",
       "    }\n",
       "</style>\n",
       "<table border=\"1\" class=\"dataframe\">\n",
       "  <thead>\n",
       "    <tr style=\"text-align: right;\">\n",
       "      <th></th>\n",
       "      <th></th>\n",
       "      <th>explained_var_ratio</th>\n",
       "      <th>eigenvalues</th>\n",
       "      <th>load</th>\n",
       "      <th>scroll</th>\n",
       "      <th>focus</th>\n",
       "      <th>blur</th>\n",
       "      <th>unload</th>\n",
       "    </tr>\n",
       "    <tr>\n",
       "      <th>date</th>\n",
       "      <th>pc</th>\n",
       "      <th></th>\n",
       "      <th></th>\n",
       "      <th></th>\n",
       "      <th></th>\n",
       "      <th></th>\n",
       "      <th></th>\n",
       "      <th></th>\n",
       "    </tr>\n",
       "  </thead>\n",
       "  <tbody>\n",
       "    <tr>\n",
       "      <th rowspan=\"3\" valign=\"top\">2018-09-30</th>\n",
       "      <th>1</th>\n",
       "      <td>0.501834</td>\n",
       "      <td>2.590113</td>\n",
       "      <td>0.421529</td>\n",
       "      <td>0.507479</td>\n",
       "      <td>0.463449</td>\n",
       "      <td>0.559659</td>\n",
       "      <td>0.191770</td>\n",
       "    </tr>\n",
       "    <tr>\n",
       "      <th>2</th>\n",
       "      <td>0.288966</td>\n",
       "      <td>1.491436</td>\n",
       "      <td>0.373189</td>\n",
       "      <td>-0.162070</td>\n",
       "      <td>-0.514368</td>\n",
       "      <td>0.033402</td>\n",
       "      <td>0.754170</td>\n",
       "    </tr>\n",
       "    <tr>\n",
       "      <th>3</th>\n",
       "      <td>0.121744</td>\n",
       "      <td>0.628357</td>\n",
       "      <td>0.638430</td>\n",
       "      <td>0.369808</td>\n",
       "      <td>-0.164359</td>\n",
       "      <td>-0.569292</td>\n",
       "      <td>-0.323331</td>\n",
       "    </tr>\n",
       "  </tbody>\n",
       "</table>\n",
       "</div>"
      ],
      "text/plain": [
       "               explained_var_ratio  eigenvalues      load    scroll     focus  \\\n",
       "date       pc                                                                   \n",
       "2018-09-30 1              0.501834     2.590113  0.421529  0.507479  0.463449   \n",
       "           2              0.288966     1.491436  0.373189 -0.162070 -0.514368   \n",
       "           3              0.121744     0.628357  0.638430  0.369808 -0.164359   \n",
       "\n",
       "                   blur    unload  \n",
       "date       pc                      \n",
       "2018-09-30 1   0.559659  0.191770  \n",
       "           2   0.033402  0.754170  \n",
       "           3  -0.569292 -0.323331  "
      ]
     },
     "execution_count": 65,
     "metadata": {},
     "output_type": "execute_result"
    }
   ],
   "source": [
    "loadingsArrayExcellentCohort"
   ]
  },
  {
   "cell_type": "code",
   "execution_count": 67,
   "metadata": {
    "ExecuteTime": {
     "end_time": "2019-12-12T00:42:18.160051Z",
     "start_time": "2019-12-12T00:42:18.144394Z"
    }
   },
   "outputs": [
    {
     "data": {
      "text/plain": [
       "array([0.82608108, 0.47045017, 0.92374025, 0.99499834, 0.99497642])"
      ]
     },
     "execution_count": 67,
     "metadata": {},
     "output_type": "execute_result"
    }
   ],
   "source": [
    "fa."
   ]
  }
 ],
 "metadata": {
  "kernelspec": {
   "display_name": "Python 3",
   "language": "python",
   "name": "python3"
  },
  "language_info": {
   "codemirror_mode": {
    "name": "ipython",
    "version": 3
   },
   "file_extension": ".py",
   "mimetype": "text/x-python",
   "name": "python",
   "nbconvert_exporter": "python",
   "pygments_lexer": "ipython3",
   "version": "3.7.7"
  },
  "latex_envs": {
   "LaTeX_envs_menu_present": true,
   "autoclose": false,
   "autocomplete": true,
   "bibliofile": "biblio.bib",
   "cite_by": "apalike",
   "current_citInitial": 1,
   "eqLabelWithNumbers": true,
   "eqNumInitial": 1,
   "hotkeys": {
    "equation": "Ctrl-E",
    "itemize": "Ctrl-I"
   },
   "labels_anchors": false,
   "latex_user_defs": false,
   "report_style_numbering": false,
   "user_envs_cfg": false
  },
  "toc": {
   "base_numbering": 1,
   "nav_menu": {},
   "number_sections": true,
   "sideBar": true,
   "skip_h1_title": false,
   "title_cell": "Table of Contents",
   "title_sidebar": "Contents",
   "toc_cell": false,
   "toc_position": {},
   "toc_section_display": true,
   "toc_window_display": false
  },
  "varInspector": {
   "cols": {
    "lenName": 16,
    "lenType": 16,
    "lenVar": 40
   },
   "kernels_config": {
    "python": {
     "delete_cmd_postfix": "",
     "delete_cmd_prefix": "del ",
     "library": "var_list.py",
     "varRefreshCmd": "print(var_dic_list())"
    },
    "r": {
     "delete_cmd_postfix": ") ",
     "delete_cmd_prefix": "rm(",
     "library": "var_list.r",
     "varRefreshCmd": "cat(var_dic_list()) "
    }
   },
   "types_to_exclude": [
    "module",
    "function",
    "builtin_function_or_method",
    "instance",
    "_Feature"
   ],
   "window_display": false
  }
 },
 "nbformat": 4,
 "nbformat_minor": 2
}
